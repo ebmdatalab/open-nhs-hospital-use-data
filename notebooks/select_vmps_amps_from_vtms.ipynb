{
 "cells": [
  {
   "cell_type": "markdown",
   "metadata": {},
   "source": [
    "### DMD Ingredient->Product Lookup\n",
    "\n",
    "Get a list of all VMPs (Virtual Medicinal Products) and AMPs (Actual Medicinal Products) from a given list of ingredients (VTMs = Virtual Therapeutic Moieties)"
   ]
  },
  {
   "cell_type": "code",
   "execution_count": 1,
   "metadata": {},
   "outputs": [],
   "source": [
    "# set name of codelist for exporting file\n",
    "codelist_name=\"covid_meds\"\n",
    "\n",
    "\n",
    "# import or paste list of vtms (Virtual Therapeutic Moieties / Ingredients) by name\n",
    "names = ['Casirivimab', 'Imdevimab', 'Remdesivir', 'Tocilizumab', 'Sarilumab']\n",
    "\n",
    "\n",
    "\n",
    "\n",
    "from ebmdatalab import bq\n",
    "import os\n",
    "import pandas as pd\n",
    "pd.set_option('display.max_rows', None)\n",
    "pd.set_option('display.max_colwidth', None)\n",
    "\n"
   ]
  },
  {
   "cell_type": "markdown",
   "metadata": {},
   "source": [
    "## Select products from DMD containing chosen ingredients"
   ]
  },
  {
   "cell_type": "code",
   "execution_count": 2,
   "metadata": {
    "lines_to_next_cell": 0
   },
   "outputs": [
    {
     "name": "stderr",
     "output_type": "stream",
     "text": [
      "C:\\Users\\hcurtis\\Anaconda3\\envs\\antibiotics-rct\\lib\\site-packages\\pandas_gbq\\gbq.py:547: UserWarning: A progress bar was requested, but there was an error loading the tqdm library. Please install tqdm to use the progress bar functionality.\n",
      "  df = rows_iter.to_dataframe(\n"
     ]
    },
    {
     "data": {
      "text/plain": [
       "type          36\n",
       "id            36\n",
       "bnf_code      18\n",
       "nm            36\n",
       "ingredient    36\n",
       "dtype: int64"
      ]
     },
     "execution_count": 2,
     "metadata": {},
     "output_type": "execute_result"
    }
   ],
   "source": [
    "# convert list to tuple for use in SQL query\n",
    "names_tuple = tuple(names)\n",
    "if len(names_tuple)==1:\n",
    "    # remove comma if only one item\n",
    "    names_tuple = str(names_tuple).replace(\",\",\"\")\n",
    "\n",
    "sql = f'''\n",
    "SELECT \"vmp\" AS type, vmp.id, bnf_code, vmp.nm, ing.nm AS ingredient\n",
    "FROM dmd.vmp\n",
    "INNER JOIN dmd.vpi AS vpi ON vmp.id=vpi.vmp \n",
    "INNER JOIN dmd.ing as ing ON ing.id = vpi.ing AND ing.nm IN {names_tuple}\n",
    "\n",
    "UNION ALL\n",
    "\n",
    "SELECT \"amp\" AS type, amp.id, bnf_code, descr as nm, ing.nm as ingredient\n",
    "FROM dmd.amp\n",
    "INNER JOIN dmd.vpi AS vpi ON amp.vmp=vpi.vmp \n",
    "INNER JOIN dmd.ing as ing ON ing.id = vpi.ing AND ing.nm IN {names_tuple}\n",
    "\n",
    "ORDER BY type, nm  '''\n",
    "\n",
    "meds = bq.cached_read(sql, csv_path=os.path.join('..','data',f'meds_{codelist_name}.csv'))\n",
    "\n",
    "meds.count()"
   ]
  },
  {
   "cell_type": "markdown",
   "metadata": {},
   "source": [
    "#### Check if any ingredients were not found"
   ]
  },
  {
   "cell_type": "code",
   "execution_count": 3,
   "metadata": {},
   "outputs": [
    {
     "name": "stdout",
     "output_type": "stream",
     "text": [
      "Selected ingredients: ['Casirivimab', 'Imdevimab', 'Remdesivir', 'Sarilumab', 'Tocilizumab']\n",
      "Ingredients found: ['Casirivimab', 'Imdevimab', 'Remdesivir', 'Sarilumab', 'Tocilizumab']\n",
      "Ingredients NOT found: []\n"
     ]
    }
   ],
   "source": [
    "ings = list(meds.ingredient.drop_duplicates())\n",
    "names.sort()\n",
    "ings.sort()\n",
    "print(\"Selected ingredients:\", names)\n",
    "print(\"Ingredients found:\", ings)\n",
    "\n",
    "missing_ings = [i for i in names if i not in ings]\n",
    "print(\"Ingredients NOT found:\", missing_ings)"
   ]
  }
 ],
 "metadata": {
  "jupytext": {
   "cell_metadata_filter": "all",
   "notebook_metadata_filter": "all,-language_info",
   "text_representation": {
    "extension": ".py",
    "format_name": "light",
    "format_version": "1.5",
    "jupytext_version": "1.3.3"
   }
  },
  "kernelspec": {
   "display_name": "Python 3",
   "language": "python",
   "name": "python3"
  },
  "language_info": {
   "codemirror_mode": {
    "name": "ipython",
    "version": 3
   },
   "file_extension": ".py",
   "mimetype": "text/x-python",
   "name": "python",
   "nbconvert_exporter": "python",
   "pygments_lexer": "ipython3",
   "version": "3.8.1"
  }
 },
 "nbformat": 4,
 "nbformat_minor": 4
}
