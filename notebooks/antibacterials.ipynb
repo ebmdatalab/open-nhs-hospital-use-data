{
 "cells": [
  {
   "cell_type": "markdown",
   "metadata": {},
   "source": [
    "This is a list of antimicrobial medicines. "
   ]
  },
  {
   "cell_type": "code",
   "execution_count": 1,
   "metadata": {},
   "outputs": [],
   "source": [
    "from ebmdatalab import bq\n",
    "import os\n",
    "import pandas as pd\n",
    "import numpy as np\n",
    "\n",
    "#mapping = pd.read_csv('../lib/ingredients.csv')\n",
    "#cats = pd.read_csv('../lib/categories.csv', header = None, names=[\"category_code\",\"category\"])\n",
    "\n",
    "#mapping.groupby('product_id')[\"category_id\"].nunique()\n",
    "#mapping['product_id'].nunique()\n",
    "\n",
    "#mapping = mapping.join(cats, on='product_id', how=\"left\")\n",
    "\n"
   ]
  },
  {
   "cell_type": "markdown",
   "metadata": {},
   "source": [
    "## Antimicrobials in BNF"
   ]
  },
  {
   "cell_type": "code",
   "execution_count": 2,
   "metadata": {
    "lines_to_next_cell": 0
   },
   "outputs": [],
   "source": [
    "sql = '''\n",
    "WITH bnf_codes AS (  \n",
    "  SELECT presentation_code as bnf_code, \n",
    "  IF(para IN ('Some other antibacterials','Antituberculosis drugs', 'Antileprotic drugs'),\n",
    "        'Others', para) AS para  \n",
    "  FROM hscic.bnf \n",
    "  WHERE \n",
    "  (presentation_code LIKE '0501%')\n",
    ") \n",
    "  \n",
    "SELECT \"vmp\" AS type, vmp.id, vmp.bnf_code, vmp.nm, ing.nm AS ingredient, \n",
    "  route.descr as route, para as paragraph\n",
    "FROM dmd.vmp \n",
    "INNER JOIN bnf_codes b ON b.bnf_code = vmp.bnf_code\n",
    "INNER JOIN dmd.vpi AS vpi ON vmp.id=vpi.vmp\n",
    "INNER JOIN dmd.ing as ing ON ing.id = vpi.ing\n",
    "LEFT JOIN dmd.droute on vmp.id = droute.vmp\t\n",
    "LEFT JOIN dmd.route on route.cd = droute.route\n",
    "\n",
    "ORDER BY type, nm  '''\n",
    "\n",
    "antibac_meds = bq.cached_read(sql, csv_path=os.path.join('..','data','antibac_meds.csv'))\n",
    "pd.set_option('display.max_rows', None)\n",
    "pd.set_option('display.max_colwidth', None)\n",
    "antibac_meds[[\"id\", \"bnf_code\"]].count()\n",
    "\n",
    "antibac_meds[\"source\"] = \"bnf\""
   ]
  },
  {
   "cell_type": "code",
   "execution_count": 3,
   "metadata": {},
   "outputs": [
    {
     "name": "stdout",
     "output_type": "stream",
     "text": [
      "1\n",
      "No. of paras:  11\n"
     ]
    }
   ],
   "source": [
    "#antibac_meds.merge(mapping, left_on='id', right_on='product_id', how='left')\n",
    "# check that each ingredient is mapped to just one paragraph\n",
    "print(antibac_meds.groupby(['ingredient'])['paragraph'].nunique().max())\n",
    "print(\"No. of paras: \", antibac_meds['paragraph'].nunique())\n",
    "para_lookup = antibac_meds[['ingredient','paragraph']].drop_duplicates()"
   ]
  },
  {
   "cell_type": "markdown",
   "metadata": {
    "lines_to_next_cell": 2
   },
   "source": [
    "## Dm+d Additions\n",
    "There are some medicines used in hospital only, which don't have BNF codes (used for primary care). \n",
    "\n",
    "We will manually select these from dmd using the ingredients found in the products we identified from BNF codes."
   ]
  },
  {
   "cell_type": "code",
   "execution_count": 4,
   "metadata": {},
   "outputs": [
    {
     "name": "stdout",
     "output_type": "stream",
     "text": [
      "No of antibiotic ingredients from bnf list:  122\n",
      "No of antibiotic ingredients after filtering:  118\n",
      "No of antibiotic ingredients in dmd list:  118\n"
     ]
    }
   ],
   "source": [
    "  \n",
    "# set name of codelist for exporting file\n",
    "codelist_name=\"antibac_meds\"\n",
    "\n",
    "# import or paste list of vtms (Virtual Therapeutic Moieties / Ingredients) by name\n",
    "names = antibac_meds[\"ingredient\"].drop_duplicates()\n",
    "print(\"No of antibiotic ingredients from bnf list: \", len(names))\n",
    "\n",
    "# filter out ingredients identified as not being antimicrobial agents\n",
    "names_filtered = [k for k in names if k not in [\"Citric acid\", \"Thalidomide\", \"Sodium bicarbonate\", \"Sodium citrate\"]]\n",
    "print(\"No of antibiotic ingredients after filtering: \", len(names_filtered))\n",
    "\n",
    "# convert list to tuple for use in SQL query\n",
    "names_tuple = tuple(names_filtered)\n",
    "if len(names_tuple)==1:\n",
    "    # remove comma if only one item\n",
    "    names_tuple = str(names_tuple).replace(\",\",\"\")\n",
    "\n",
    "sql = f'''\n",
    "SELECT \"vmp\" AS type, vmp.id, bnf_code, vmp.nm, ing.nm AS ingredient, \n",
    "    route.descr as route, ddd.ddd, ddd.ddd_uomcd AS ddd_uomcd, who.category\n",
    "FROM dmd.vmp\n",
    "INNER JOIN dmd.vpi AS vpi ON vmp.id=vpi.vmp \n",
    "INNER JOIN dmd.ing as ing ON ing.id = vpi.ing AND ing.nm IN {names_tuple}\n",
    "LEFT JOIN dmd.droute on vmp.id = droute.vmp  -- NB this introduces some duplicates we will remove later\n",
    "LEFT JOIN dmd.route on route.cd = droute.route\n",
    "LEFT JOIN dmd.ddd on vmp.id=ddd.vpid\n",
    "LEFT JOIN jonm.who_aware_vmp who on vmp.id = who.vmp\n",
    "\n",
    "ORDER BY type, nm  '''\n",
    "\n",
    "dmd_antibac_meds = bq.cached_read(sql, csv_path=os.path.join('..','data',f'dmd_{codelist_name}.csv'))\n",
    "\n",
    "print(\"No of antibiotic ingredients in dmd list: \", dmd_antibac_meds[\"ingredient\"].nunique())"
   ]
  },
  {
   "cell_type": "code",
   "execution_count": 5,
   "metadata": {},
   "outputs": [
    {
     "name": "stdout",
     "output_type": "stream",
     "text": [
      "Max no of categories per vmp: 2\n",
      "Max no of categories per vmp after resolving: 1\n",
      "category\n",
      "Access           324\n",
      "Reserve           33\n",
      "Uncategorised    221\n",
      "Watch            319\n",
      "Name: id, dtype: int64\n"
     ]
    }
   ],
   "source": [
    "# Address multiple WHO categories and missing ones\n",
    "\n",
    "dmd_antibac_meds_2 = dmd_antibac_meds.copy()\n",
    "dmd_antibac_meds_2[\"cat_count\"] = dmd_antibac_meds_2.groupby(\"id\")[\"category\"].transform('nunique')\n",
    "print(\"Max no of categories per vmp:\", dmd_antibac_meds_2[\"cat_count\"].max()) # this should be 2 but not 3.\n",
    "# Since there is currently a max of 2 diff values we can compare max and min and pick one.\n",
    "dmd_antibac_meds_2[\"cat_1\"] = dmd_antibac_meds_2.groupby(\"id\")[\"category\"].transform('min').astype(str)\n",
    "dmd_antibac_meds_2[\"cat_2\"] = dmd_antibac_meds_2.groupby(\"id\")[\"category\"].transform('max').astype(str)\n",
    "\n",
    "# Access, Watch, Reserve: possible pair combinations in alphabetical order\n",
    "# A + W = Watch\n",
    "# A + R = Reserve\n",
    "# R + W = Reserve\n",
    "s = dmd_antibac_meds_2[\"category\"].copy()\n",
    "s.mask((dmd_antibac_meds_2[\"cat_count\"]>1) & (dmd_antibac_meds_2[\"cat_1\"]==\"Reserve\"), dmd_antibac_meds_2[\"cat_1\"], inplace=True)\n",
    "s.mask((dmd_antibac_meds_2[\"cat_count\"]>1) & (dmd_antibac_meds_2[\"cat_1\"]==\"Access\"), dmd_antibac_meds_2[\"cat_2\"], inplace=True)\n",
    "# fill resolved category and fill missing with \"Uncategorised\". (Also strip as there were two versions of \"Watch\")\n",
    "dmd_antibac_meds_2[\"category\"] = s.str.strip().fillna(\"Uncategorised\")\n",
    "dmd_antibac_meds_2 = dmd_antibac_meds_2.drop([\"cat_count\", \"cat_1\", \"cat_2\"], axis=1)\n",
    "\n",
    "# recheck count\n",
    "dmd_antibac_meds_2[\"cat_count\"] = dmd_antibac_meds_2.groupby(\"id\")[\"category\"].transform('nunique')\n",
    "print(\"Max no of categories per vmp after resolving:\", dmd_antibac_meds_2[\"cat_count\"].max()) # this should now be 1\n",
    "dmd_antibac_meds_2 = dmd_antibac_meds_2.drop([\"cat_count\"], axis=1)\n",
    "print(dmd_antibac_meds_2.groupby([\"category\"])[\"id\"].nunique()) \n",
    "#dmd_antibac_meds_2.loc[pd.isnull(dmd_antibac_meds_2[\"category\"])].sort_values(by=\"ingredient\")#.to_csv(os.path.join('..','data',f'abx_without_who_category.csv'))\n"
   ]
  },
  {
   "cell_type": "markdown",
   "metadata": {},
   "source": [
    "### BNF Paragraphs"
   ]
  },
  {
   "cell_type": "code",
   "execution_count": 6,
   "metadata": {},
   "outputs": [
    {
     "name": "stdout",
     "output_type": "stream",
     "text": [
      "No of records before join: 1063\n",
      "No of records after join: 1063\n"
     ]
    },
    {
     "data": {
      "text/html": [
       "<div>\n",
       "<style scoped>\n",
       "    .dataframe tbody tr th:only-of-type {\n",
       "        vertical-align: middle;\n",
       "    }\n",
       "\n",
       "    .dataframe tbody tr th {\n",
       "        vertical-align: top;\n",
       "    }\n",
       "\n",
       "    .dataframe thead th {\n",
       "        text-align: right;\n",
       "    }\n",
       "</style>\n",
       "<table border=\"1\" class=\"dataframe\">\n",
       "  <thead>\n",
       "    <tr style=\"text-align: right;\">\n",
       "      <th></th>\n",
       "      <th>type</th>\n",
       "      <th>id</th>\n",
       "      <th>bnf_code</th>\n",
       "      <th>nm</th>\n",
       "      <th>ingredient</th>\n",
       "      <th>route</th>\n",
       "      <th>ddd</th>\n",
       "      <th>ddd_uomcd</th>\n",
       "      <th>category</th>\n",
       "      <th>paragraph</th>\n",
       "      <th>para_count</th>\n",
       "    </tr>\n",
       "  </thead>\n",
       "  <tbody>\n",
       "    <tr>\n",
       "      <th>0</th>\n",
       "      <td>vmp</td>\n",
       "      <td>35899811000001104</td>\n",
       "      <td>0501040C0AAADAD</td>\n",
       "      <td>Amikacin 100mg/2ml solution for injection vials</td>\n",
       "      <td>Amikacin sulfate</td>\n",
       "      <td>Intramuscular</td>\n",
       "      <td>1.0</td>\n",
       "      <td>258682000.0</td>\n",
       "      <td>Access</td>\n",
       "      <td>Aminoglycosides</td>\n",
       "      <td>1</td>\n",
       "    </tr>\n",
       "    <tr>\n",
       "      <th>1</th>\n",
       "      <td>vmp</td>\n",
       "      <td>35899811000001104</td>\n",
       "      <td>0501040C0AAADAD</td>\n",
       "      <td>Amikacin 100mg/2ml solution for injection vials</td>\n",
       "      <td>Amikacin sulfate</td>\n",
       "      <td>Intravenous</td>\n",
       "      <td>1.0</td>\n",
       "      <td>258682000.0</td>\n",
       "      <td>Access</td>\n",
       "      <td>Aminoglycosides</td>\n",
       "      <td>1</td>\n",
       "    </tr>\n",
       "    <tr>\n",
       "      <th>2</th>\n",
       "      <td>vmp</td>\n",
       "      <td>33516711000001107</td>\n",
       "      <td>NaN</td>\n",
       "      <td>Amikacin 2.5% eye drops preservative free</td>\n",
       "      <td>Amikacin sulfate</td>\n",
       "      <td>Ocular</td>\n",
       "      <td>NaN</td>\n",
       "      <td>NaN</td>\n",
       "      <td>Access</td>\n",
       "      <td>Aminoglycosides</td>\n",
       "      <td>1</td>\n",
       "    </tr>\n",
       "    <tr>\n",
       "      <th>3</th>\n",
       "      <td>vmp</td>\n",
       "      <td>35104511000001105</td>\n",
       "      <td>NaN</td>\n",
       "      <td>Amikacin 25mg/5ml solution for injection pre-filled syringes</td>\n",
       "      <td>Amikacin sulfate</td>\n",
       "      <td>Intrathecal</td>\n",
       "      <td>NaN</td>\n",
       "      <td>NaN</td>\n",
       "      <td>Access</td>\n",
       "      <td>Aminoglycosides</td>\n",
       "      <td>1</td>\n",
       "    </tr>\n",
       "    <tr>\n",
       "      <th>4</th>\n",
       "      <td>vmp</td>\n",
       "      <td>35111911000001104</td>\n",
       "      <td>NaN</td>\n",
       "      <td>Amikacin 25mg/5ml solution for injection vials</td>\n",
       "      <td>Amikacin sulfate</td>\n",
       "      <td>Intrathecal</td>\n",
       "      <td>NaN</td>\n",
       "      <td>NaN</td>\n",
       "      <td>Access</td>\n",
       "      <td>Aminoglycosides</td>\n",
       "      <td>1</td>\n",
       "    </tr>\n",
       "  </tbody>\n",
       "</table>\n",
       "</div>"
      ],
      "text/plain": [
       "  type                 id         bnf_code  \\\n",
       "0  vmp  35899811000001104  0501040C0AAADAD   \n",
       "1  vmp  35899811000001104  0501040C0AAADAD   \n",
       "2  vmp  33516711000001107              NaN   \n",
       "3  vmp  35104511000001105              NaN   \n",
       "4  vmp  35111911000001104              NaN   \n",
       "\n",
       "                                                             nm  \\\n",
       "0               Amikacin 100mg/2ml solution for injection vials   \n",
       "1               Amikacin 100mg/2ml solution for injection vials   \n",
       "2                     Amikacin 2.5% eye drops preservative free   \n",
       "3  Amikacin 25mg/5ml solution for injection pre-filled syringes   \n",
       "4                Amikacin 25mg/5ml solution for injection vials   \n",
       "\n",
       "         ingredient          route  ddd    ddd_uomcd category  \\\n",
       "0  Amikacin sulfate  Intramuscular  1.0  258682000.0   Access   \n",
       "1  Amikacin sulfate    Intravenous  1.0  258682000.0   Access   \n",
       "2  Amikacin sulfate         Ocular  NaN          NaN   Access   \n",
       "3  Amikacin sulfate    Intrathecal  NaN          NaN   Access   \n",
       "4  Amikacin sulfate    Intrathecal  NaN          NaN   Access   \n",
       "\n",
       "         paragraph  para_count  \n",
       "0  Aminoglycosides           1  \n",
       "1  Aminoglycosides           1  \n",
       "2  Aminoglycosides           1  \n",
       "3  Aminoglycosides           1  \n",
       "4  Aminoglycosides           1  "
      ]
     },
     "execution_count": 6,
     "metadata": {},
     "output_type": "execute_result"
    }
   ],
   "source": [
    "# join BNF paragraph via ingredients\n",
    "print(\"No of records before join:\", len(dmd_antibac_meds_2[\"id\"]))\n",
    "dmd_antibac_meds_3 = dmd_antibac_meds_2.merge(para_lookup, on='ingredient', how='left')\n",
    "print(\"No of records after join:\",len(dmd_antibac_meds_3[\"id\"]))\n",
    "\n",
    "# some (3) multi-ingredient products map to different paragraphs (Genta + Clinda x2, Genta + Vancomycin). \n",
    "# We'll assign them to Other.\n",
    "dmd_antibac_meds_3[\"para_count\"] = dmd_antibac_meds_3.groupby(\"id\")[\"paragraph\"].transform('nunique')\n",
    "#print(dmd_antibac_meds_3.loc[dmd_antibac_meds_3[\"para_count\"]>1])\n",
    "dmd_antibac_meds_3.loc[dmd_antibac_meds_3[\"para_count\"]>1, \"paragraph\"] =  \"Other\"\n",
    "\n",
    "dmd_antibac_meds_3.head()"
   ]
  },
  {
   "cell_type": "markdown",
   "metadata": {},
   "source": [
    "**Note the above should have captured all the codes we previously found by selecting based on BNF codes so we don't need to join the tables.**"
   ]
  },
  {
   "cell_type": "markdown",
   "metadata": {},
   "source": [
    "### Investigate routes of administration"
   ]
  },
  {
   "cell_type": "code",
   "execution_count": 7,
   "metadata": {},
   "outputs": [
    {
     "data": {
      "text/plain": [
       "route\n",
       "Oral                                      573\n",
       "Intravenous                               195\n",
       "Intramuscular                              69\n",
       "Ocular                                     58\n",
       "Cutaneous                                  44\n",
       "Route of administration not applicable     32\n",
       "Auricular                                  20\n",
       "Inhalation                                 17\n",
       "Intrathecal                                 7\n",
       "Intraarticular                              5\n",
       "Intrapleural                                5\n",
       "Intracameral                                5\n",
       "Gastroenteral                               4\n",
       "Intravitreal                                4\n",
       "Intralesional                               3\n",
       "Vaginal                                     3\n",
       "Rectal                                      3\n",
       "Intraperitoneal                             3\n",
       "Nasal                                       2\n",
       "Gingival                                    2\n",
       "Oromucosal                                  2\n",
       "Intracerebroventricular                     1\n",
       "Intracavernous                              1\n",
       "Subcutaneous                                1\n",
       "Intravesical                                1\n",
       "Dental                                      1\n",
       "Name: id, dtype: int64"
      ]
     },
     "execution_count": 7,
     "metadata": {},
     "output_type": "execute_result"
    }
   ],
   "source": [
    "dmd_antibac_meds_3.groupby(\"route\")[\"id\"].count().sort_values(ascending=False)"
   ]
  },
  {
   "cell_type": "code",
   "execution_count": 8,
   "metadata": {},
   "outputs": [
    {
     "name": "stdout",
     "output_type": "stream",
     "text": [
      "                   id                                      nm  Route_count  \\\n",
      "320  4615111000001106  Colistin 19.5million unit powder vials            2   \n",
      "321  4615111000001106  Colistin 19.5million unit powder vials            2   \n",
      "322  4615111000001106  Colistin 19.5million unit powder vials            2   \n",
      "323  4615111000001106  Colistin 19.5million unit powder vials            2   \n",
      "\n",
      "         route  Route  \n",
      "320       Oral  Other  \n",
      "321  Auricular  Other  \n",
      "322  Cutaneous  Other  \n",
      "323     Ocular  Other  \n"
     ]
    }
   ],
   "source": [
    "# categorise routes of administration\n",
    "\n",
    "condlist = [dmd_antibac_meds_3[\"route\"]== \"Oral\",\n",
    "            dmd_antibac_meds_3[\"route\"].isin([\"Intravenous\", \"Subcutaneous\", \"Intramuscular\", \"Intrapleural\", \n",
    "                                        \"Intraperitoneal\", \"Intraarticular\", \"Intracavernous\", \"Intrathecal\",\n",
    "                                        \"Intracerebroventricular\"]),\n",
    "            dmd_antibac_meds_3[\"route\"].isin([\"Cutaneous\", \"Auricular\",\"Vaginal\",\"Intralesional\",\n",
    "                                        \"Ocular\", \"Nasal\", \"Oromucosal\", \"Gingival\", \"Dental\"]),\n",
    "            dmd_antibac_meds_3[\"route\"].isin([\"Inhalation\", \"Intravesical\", \"Gastroenteral\"])\n",
    "                                        ]\n",
    "choicelist = [\"Oral\", \"Injectable\", \"Topical\", \"Other\"]\n",
    "dmd_antibac_meds_3[\"Route\"] = np.select(condlist, choicelist, default=\"Other\")\n",
    "\n",
    "# check for and correct vmps with multiple routes\n",
    "dmd_antibac_meds_3 = dmd_antibac_meds_3.copy()\n",
    "dmd_antibac_meds_3[\"Route_count\"] = dmd_antibac_meds_3.groupby([\"id\"])[\"Route\"].transform('nunique')\n",
    "# most of those with mixed routes have \"for injection\" or \"for infusion\" in their name\n",
    "dmd_antibac_meds_3.loc[(dmd_antibac_meds_3[\"Route_count\"]>1) & (\n",
    "                        (dmd_antibac_meds_3[\"nm\"].str.contains(\"injection\")) | (\n",
    "                                    dmd_antibac_meds_3[\"nm\"].str.contains(\"infusion\"))), \n",
    "                                    \"Route\"] =  \"Injectable\"\n",
    "#recount and assign any remaining to \"Other\" - this should be restricted to colistin                              \n",
    "dmd_antibac_meds_3[\"Route_count\"] = dmd_antibac_meds_3.groupby([\"id\"])[\"Route\"].transform('nunique')\n",
    "dmd_antibac_meds_3.loc[dmd_antibac_meds_3[\"Route_count\"]>1, \"Route\"] =  \"Other\"\n",
    "\n",
    "print(dmd_antibac_meds_3.loc[dmd_antibac_meds_3[\"Route_count\"]>1][[\"id\", \"nm\", \"Route_count\", \"route\", \"Route\"]])\n",
    "\n",
    "dmd_antibac_meds_3 = dmd_antibac_meds_3.drop(\"route\", axis=1)"
   ]
  },
  {
   "cell_type": "code",
   "execution_count": 9,
   "metadata": {},
   "outputs": [
    {
     "name": "stdout",
     "output_type": "stream",
     "text": [
      "Empty DataFrame\n",
      "Columns: [type, id, bnf_code, nm, ingredient, ddd, ddd_uomcd, category, paragraph, para_count, Route, Route_count]\n",
      "Index: []\n"
     ]
    }
   ],
   "source": [
    "# check for remaining dmds with multiple routes of administration\n",
    "test = dmd_antibac_meds_3.copy()#[[\"id\", \"bnf_code\",\"Route\"]]\n",
    "test[\"Route_count\"] = test.groupby([\"id\"])[\"Route\"].transform('nunique')\n",
    "\n",
    "test = test.loc[test[\"Route_count\"]>1]\n",
    "print(test)"
   ]
  },
  {
   "cell_type": "code",
   "execution_count": 10,
   "metadata": {},
   "outputs": [
    {
     "name": "stdout",
     "output_type": "stream",
     "text": [
      "nunique     897\n",
      "count      1063\n",
      "Name: nm, dtype: int64\n"
     ]
    },
    {
     "data": {
      "text/html": [
       "<div>\n",
       "<style scoped>\n",
       "    .dataframe tbody tr th:only-of-type {\n",
       "        vertical-align: middle;\n",
       "    }\n",
       "\n",
       "    .dataframe tbody tr th {\n",
       "        vertical-align: top;\n",
       "    }\n",
       "\n",
       "    .dataframe thead th {\n",
       "        text-align: right;\n",
       "    }\n",
       "</style>\n",
       "<table border=\"1\" class=\"dataframe\">\n",
       "  <thead>\n",
       "    <tr style=\"text-align: right;\">\n",
       "      <th></th>\n",
       "      <th>nunique</th>\n",
       "      <th>count</th>\n",
       "    </tr>\n",
       "    <tr>\n",
       "      <th>type</th>\n",
       "      <th></th>\n",
       "      <th></th>\n",
       "    </tr>\n",
       "  </thead>\n",
       "  <tbody>\n",
       "    <tr>\n",
       "      <th>vmp</th>\n",
       "      <td>897</td>\n",
       "      <td>1063</td>\n",
       "    </tr>\n",
       "  </tbody>\n",
       "</table>\n",
       "</div>"
      ],
      "text/plain": [
       "      nunique  count\n",
       "type                \n",
       "vmp       897   1063"
      ]
     },
     "execution_count": 10,
     "metadata": {},
     "output_type": "execute_result"
    }
   ],
   "source": [
    "# check number of distinct medicines\n",
    "print(dmd_antibac_meds_3[\"nm\"].agg({\"count\", \"nunique\"}))\n",
    "dmd_antibac_meds_3.groupby(\"type\")[\"nm\"].agg({\"count\", \"nunique\"})"
   ]
  },
  {
   "cell_type": "code",
   "execution_count": 11,
   "metadata": {},
   "outputs": [
    {
     "name": "stdout",
     "output_type": "stream",
     "text": [
      "nunique    1\n",
      "count      6\n",
      "dtype: int64\n",
      "            count  sum\n",
      "Route                 \n",
      "Injectable    304  216\n",
      "Oral          566  507\n",
      "Other          61   11\n",
      "Topical       132    3\n"
     ]
    }
   ],
   "source": [
    "# check how many products have DDDs\n",
    "dmd_antibac_meds_3[\"ddd_flag\"] = np.where(dmd_antibac_meds_3[\"ddd\"].notnull(), 1, 0)\n",
    "print(dmd_antibac_meds_3.groupby([\"id\"])[\"ddd\"].agg({\"nunique\",\"count\"}).max())\n",
    "print(dmd_antibac_meds_3.groupby([\"Route\"])[\"ddd_flag\"].agg({\"sum\",\"count\"}))\n"
   ]
  },
  {
   "cell_type": "code",
   "execution_count": 12,
   "metadata": {},
   "outputs": [],
   "source": [
    "dmd_antibac_meds_3 = dmd_antibac_meds_3.drop([\"Route_count\",\"para_count\"], axis=1)"
   ]
  },
  {
   "cell_type": "code",
   "execution_count": 13,
   "metadata": {},
   "outputs": [],
   "source": [
    "dmd_antibac_meds_3.to_csv(os.path.join('..','data','antibac_codelist.csv')) #export to csv here\n"
   ]
  }
 ],
 "metadata": {
  "jupytext": {
   "cell_metadata_filter": "all",
   "notebook_metadata_filter": "all,-language_info",
   "text_representation": {
    "extension": ".py",
    "format_name": "light",
    "format_version": "1.5",
    "jupytext_version": "1.3.3"
   }
  },
  "kernelspec": {
   "display_name": "Python 3",
   "language": "python",
   "name": "python3"
  },
  "language_info": {
   "codemirror_mode": {
    "name": "ipython",
    "version": 3
   },
   "file_extension": ".py",
   "mimetype": "text/x-python",
   "name": "python",
   "nbconvert_exporter": "python",
   "pygments_lexer": "ipython3",
   "version": "3.8.1"
  }
 },
 "nbformat": 4,
 "nbformat_minor": 4
}
