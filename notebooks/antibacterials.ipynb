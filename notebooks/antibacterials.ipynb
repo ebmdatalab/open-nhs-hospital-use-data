{
 "cells": [
  {
   "cell_type": "markdown",
   "metadata": {},
   "source": [
    "This is a list of antimicrobial medicines. "
   ]
  },
  {
   "cell_type": "code",
   "execution_count": 14,
   "metadata": {},
   "outputs": [],
   "source": [
    "from ebmdatalab import bq\n",
    "import os\n",
    "import pandas as pd\n",
    "import numpy as np\n",
    "\n",
    "#mapping = pd.read_csv('../lib/ingredients.csv')\n",
    "#cats = pd.read_csv('../lib/categories.csv', header = None, names=[\"category_code\",\"category\"])\n",
    "\n",
    "#mapping.groupby('product_id')[\"category_id\"].nunique()\n",
    "#mapping['product_id'].nunique()\n",
    "\n",
    "#mapping = mapping.join(cats, on='product_id', how=\"left\")\n",
    "\n"
   ]
  },
  {
   "cell_type": "markdown",
   "metadata": {},
   "source": [
    "## Antimicrobials in BNF"
   ]
  },
  {
   "cell_type": "code",
   "execution_count": 15,
   "metadata": {
    "lines_to_next_cell": 0
   },
   "outputs": [],
   "source": [
    "sql = '''\n",
    "WITH bnf_codes AS (  \n",
    "  SELECT presentation_code as bnf_code, chemical \n",
    "  FROM hscic.bnf \n",
    "  WHERE \n",
    "  (presentation_code LIKE '0501%')\n",
    ") \n",
    "  \n",
    "SELECT \"vmp\" AS type, vmp.id, bnf_code, vmp.nm, ing.nm AS ingredient, \n",
    "  route.descr as route\n",
    "FROM dmd.vmp\n",
    "INNER JOIN dmd.vpi AS vpi ON vmp.id=vpi.vmp\n",
    "INNER JOIN dmd.ing as ing ON ing.id = vpi.ing\n",
    "LEFT JOIN dmd.droute on vmp.id = droute.vmp\t\n",
    "LEFT JOIN dmd.route on route.cd = droute.route\n",
    "\n",
    "WHERE bnf_code IN (SELECT bnf_code FROM bnf_codes)\n",
    "\n",
    "UNION ALL\n",
    "\n",
    "SELECT \"amp\" AS type, amp.id, bnf_code, amp.descr as nm, ing.nm as ingredient,\n",
    "  route.descr as route\n",
    "FROM dmd.amp\n",
    "INNER JOIN dmd.vpi AS vpi ON amp.vmp=vpi.vmp\n",
    "INNER JOIN dmd.ing as ing ON ing.id = vpi.ing\n",
    "LEFT JOIN dmd.droute on amp.vmp = droute.vmp\t\n",
    "LEFT JOIN dmd.route on route.cd = droute.route\n",
    "\n",
    "WHERE bnf_code IN (SELECT bnf_code FROM bnf_codes)\n",
    "\n",
    "ORDER BY type, nm  '''\n",
    "\n",
    "antibac_meds = bq.cached_read(sql, csv_path=os.path.join('..','data','antibac_meds.csv'))\n",
    "pd.set_option('display.max_rows', None)\n",
    "pd.set_option('display.max_colwidth', None)\n",
    "antibac_meds[[\"id\", \"bnf_code\"]].count()\n",
    "\n",
    "antibac_meds[\"source\"] = \"bnf\""
   ]
  },
  {
   "cell_type": "code",
   "execution_count": 16,
   "metadata": {},
   "outputs": [],
   "source": [
    "#antibac_meds.merge(mapping, left_on='id', right_on='product_id', how='left')\n"
   ]
  },
  {
   "cell_type": "markdown",
   "metadata": {
    "lines_to_next_cell": 2
   },
   "source": [
    "## Dm+d Additions\n",
    "There are some medicines used in hospital only, which don't have BNF codes (used for primary care). \n",
    "\n",
    "We will manually select these from dmd using the ingredients found in the products we identified from BNF codes."
   ]
  },
  {
   "cell_type": "code",
   "execution_count": 17,
   "metadata": {},
   "outputs": [
    {
     "name": "stdout",
     "output_type": "stream",
     "text": [
      "No of antibiotic ingredients from bnf list:  122\n",
      "No of antibiotic ingredients after filtering:  118\n",
      "No of antibiotic ingredients in dmd list:  118\n"
     ]
    }
   ],
   "source": [
    "  \n",
    "# set name of codelist for exporting file\n",
    "codelist_name=\"antibac_meds\"\n",
    "\n",
    "# import or paste list of vtms (Virtual Therapeutic Moieties / Ingredients) by name\n",
    "names = antibac_meds[\"ingredient\"].drop_duplicates()\n",
    "print(\"No of antibiotic ingredients from bnf list: \", len(names))\n",
    "\n",
    "# filter out ingredients identified as not being antimicrobial agents\n",
    "names_filtered = [k for k in names if k not in [\"Citric acid\", \"Thalidomide\", \"Sodium bicarbonate\", \"Sodium citrate\"]]\n",
    "print(\"No of antibiotic ingredients after filtering: \", len(names_filtered))\n",
    "\n",
    "# convert list to tuple for use in SQL query\n",
    "names_tuple = tuple(names_filtered)\n",
    "if len(names_tuple)==1:\n",
    "    # remove comma if only one item\n",
    "    names_tuple = str(names_tuple).replace(\",\",\"\")\n",
    "\n",
    "sql = f'''\n",
    "SELECT \"vmp\" AS type, vmp.id, bnf_code, vmp.nm, ing.nm AS ingredient, \n",
    "    route.descr as route, ddd.ddd, ddd.ddd_uomcd\n",
    "FROM dmd.vmp\n",
    "INNER JOIN dmd.vpi AS vpi ON vmp.id=vpi.vmp \n",
    "INNER JOIN dmd.ing as ing ON ing.id = vpi.ing AND ing.nm IN {names_tuple}\n",
    "LEFT JOIN dmd.droute on vmp.id = droute.vmp\n",
    "LEFT JOIN dmd.route on route.cd = droute.route\n",
    "LEFT JOIN dmd.ddd on vmp.id=ddd.vpid\n",
    "\n",
    "UNION ALL\n",
    "\n",
    "SELECT \"amp\" AS type, amp.id, bnf_code, amp.descr as nm, ing.nm as ingredient, \n",
    "    route.descr as route, ddd.ddd, ddd.ddd_uomcd\n",
    "FROM dmd.amp\n",
    "INNER JOIN dmd.vpi AS vpi ON amp.vmp=vpi.vmp \n",
    "INNER JOIN dmd.ing as ing ON ing.id = vpi.ing AND ing.nm IN {names_tuple}\n",
    "LEFT JOIN dmd.droute on amp.vmp = droute.vmp\n",
    "LEFT JOIN dmd.route on route.cd = droute.route\n",
    "LEFT JOIN dmd.ddd on amp.vmp=ddd.vpid\n",
    "\n",
    "ORDER BY type, nm  '''\n",
    "\n",
    "dmd_antibac_meds = bq.cached_read(sql, csv_path=os.path.join('..','data',f'dmd_{codelist_name}.csv'))\n",
    "\n",
    "dmd_antibac_meds[[\"id\", \"bnf_code\"]].count()\n",
    "    \n",
    "print(\"No of antibiotic ingredients in dmd list: \", dmd_antibac_meds[\"ingredient\"].nunique())"
   ]
  },
  {
   "cell_type": "markdown",
   "metadata": {},
   "source": [
    "**Note the above should have captured all the codes we previously found by selecting based on BNF codes so we don't need to join the tables.**"
   ]
  },
  {
   "cell_type": "markdown",
   "metadata": {},
   "source": [
    "### Investigate routes of administration"
   ]
  },
  {
   "cell_type": "code",
   "execution_count": 18,
   "metadata": {},
   "outputs": [
    {
     "data": {
      "text/plain": [
       "route\n",
       "Oral                                      3281\n",
       "Intravenous                                797\n",
       "Intramuscular                              318\n",
       "Ocular                                     217\n",
       "Cutaneous                                  210\n",
       "Auricular                                   85\n",
       "Route of administration not applicable      60\n",
       "Inhalation                                  59\n",
       "Vaginal                                     46\n",
       "Intrapleural                                29\n",
       "Gastroenteral                               29\n",
       "Intraarticular                              27\n",
       "Intrathecal                                 17\n",
       "Rectal                                      12\n",
       "Intracameral                                11\n",
       "Intraperitoneal                              9\n",
       "Intravitreal                                 8\n",
       "Intralesional                                6\n",
       "Nasal                                        5\n",
       "Oromucosal                                   4\n",
       "Gingival                                     4\n",
       "Intracerebroventricular                      3\n",
       "Dental                                       2\n",
       "Intravesical                                 2\n",
       "Subcutaneous                                 2\n",
       "Intracavernous                               2\n",
       "Name: id, dtype: int64"
      ]
     },
     "execution_count": 18,
     "metadata": {},
     "output_type": "execute_result"
    }
   ],
   "source": [
    "dmd_antibac_meds.groupby(\"route\")[\"id\"].count().sort_values(ascending=False)"
   ]
  },
  {
   "cell_type": "code",
   "execution_count": 19,
   "metadata": {},
   "outputs": [
    {
     "name": "stdout",
     "output_type": "stream",
     "text": [
      "           Route          route\n",
      "3822  Injectable   Subcutaneous\n",
      "19    Injectable  Intramuscular\n",
      "20    Injectable    Intravenous\n",
      "2           Oral           Oral\n",
      "3994       Other  Gastroenteral\n"
     ]
    }
   ],
   "source": [
    "# categorise routes of administration\n",
    "\n",
    "condlist = [dmd_antibac_meds[\"route\"]== \"Oral\",\n",
    "            dmd_antibac_meds[\"route\"].isin([\"Intravenous\", \"Subcutaneous\", \"Intramuscular\"]),\n",
    "            dmd_antibac_meds[\"route\"].isin([\"Cutaneous\", \"Auricular\",\"Vaginal\",\"Intralesional\",\n",
    "                                        \"Nasal\", \"Oromucosal\", \"Gingival\"])]\n",
    "choicelist = [\"Oral\", \"Injectable\", \"Topical\"]\n",
    "dmd_antibac_meds[\"Route\"] = np.select(condlist, choicelist, default=\"Other\")\n",
    "\n",
    "print(dmd_antibac_meds[[\"Route\", \"route\"]].drop_duplicates().sort_values(by=\"Route\").head())\n",
    "\n",
    "dmd_antibac_meds = dmd_antibac_meds.drop(\"route\", axis=1)"
   ]
  },
  {
   "cell_type": "code",
   "execution_count": 20,
   "metadata": {},
   "outputs": [
    {
     "name": "stdout",
     "output_type": "stream",
     "text": [
      "nunique    4351\n",
      "count      5249\n",
      "Name: nm, dtype: int64\n"
     ]
    },
    {
     "data": {
      "text/html": [
       "<div>\n",
       "<style scoped>\n",
       "    .dataframe tbody tr th:only-of-type {\n",
       "        vertical-align: middle;\n",
       "    }\n",
       "\n",
       "    .dataframe tbody tr th {\n",
       "        vertical-align: top;\n",
       "    }\n",
       "\n",
       "    .dataframe thead th {\n",
       "        text-align: right;\n",
       "    }\n",
       "</style>\n",
       "<table border=\"1\" class=\"dataframe\">\n",
       "  <thead>\n",
       "    <tr style=\"text-align: right;\">\n",
       "      <th></th>\n",
       "      <th>nunique</th>\n",
       "      <th>count</th>\n",
       "    </tr>\n",
       "    <tr>\n",
       "      <th>type</th>\n",
       "      <th></th>\n",
       "      <th></th>\n",
       "    </tr>\n",
       "  </thead>\n",
       "  <tbody>\n",
       "    <tr>\n",
       "      <th>amp</th>\n",
       "      <td>3454</td>\n",
       "      <td>4204</td>\n",
       "    </tr>\n",
       "    <tr>\n",
       "      <th>vmp</th>\n",
       "      <td>897</td>\n",
       "      <td>1045</td>\n",
       "    </tr>\n",
       "  </tbody>\n",
       "</table>\n",
       "</div>"
      ],
      "text/plain": [
       "      nunique  count\n",
       "type                \n",
       "amp      3454   4204\n",
       "vmp       897   1045"
      ]
     },
     "execution_count": 20,
     "metadata": {},
     "output_type": "execute_result"
    }
   ],
   "source": [
    "# check number of distinct medicines\n",
    "print(dmd_antibac_meds[\"nm\"].agg({\"count\", \"nunique\"}))\n",
    "dmd_antibac_meds.groupby(\"type\")[\"nm\"].agg({\"count\", \"nunique\"})"
   ]
  },
  {
   "cell_type": "code",
   "execution_count": 21,
   "metadata": {},
   "outputs": [
    {
     "name": "stdout",
     "output_type": "stream",
     "text": [
      "      count   sum\n",
      "type             \n",
      "amp    4204  3419\n",
      "vmp    1045   731\n",
      "            count   sum\n",
      "Route                  \n",
      "Injectable   1117   946\n",
      "Oral         3281  3029\n",
      "Other         491   165\n",
      "Topical       360    10\n"
     ]
    }
   ],
   "source": [
    "# check how many products have DDDs\n",
    "dmd_antibac_meds[\"ddd_flag\"] = np.where(dmd_antibac_meds[\"ddd\"].notnull(), 1, 0)\n",
    "print(dmd_antibac_meds.groupby([\"type\"])[\"ddd_flag\"].agg({\"sum\",\"count\"}))\n",
    "print(dmd_antibac_meds.groupby([\"Route\"])[\"ddd_flag\"].agg({\"sum\",\"count\"}))\n"
   ]
  },
  {
   "cell_type": "code",
   "execution_count": 23,
   "metadata": {},
   "outputs": [],
   "source": [
    "dmd_antibac_meds.to_csv(os.path.join('..','data','antibac_codelist.csv')) #export to csv here\n"
   ]
  }
 ],
 "metadata": {
  "jupytext": {
   "cell_metadata_filter": "all",
   "notebook_metadata_filter": "all,-language_info",
   "text_representation": {
    "extension": ".py",
    "format_name": "light",
    "format_version": "1.5",
    "jupytext_version": "1.3.3"
   }
  },
  "kernelspec": {
   "display_name": "Python 3",
   "language": "python",
   "name": "python3"
  },
  "language_info": {
   "codemirror_mode": {
    "name": "ipython",
    "version": 3
   },
   "file_extension": ".py",
   "mimetype": "text/x-python",
   "name": "python",
   "nbconvert_exporter": "python",
   "pygments_lexer": "ipython3",
   "version": "3.8.1"
  }
 },
 "nbformat": 4,
 "nbformat_minor": 4
}
