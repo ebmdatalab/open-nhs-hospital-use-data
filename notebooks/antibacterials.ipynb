{
 "cells": [
  {
   "cell_type": "markdown",
   "metadata": {},
   "source": [
    "This is a list of antimicrobial medicines. "
   ]
  },
  {
   "cell_type": "code",
   "execution_count": 1,
   "metadata": {},
   "outputs": [],
   "source": [
    "from ebmdatalab import bq\n",
    "import os\n",
    "import pandas as pd\n",
    "import numpy as np\n",
    "\n",
    "#mapping = pd.read_csv('../lib/ingredients.csv')\n",
    "#cats = pd.read_csv('../lib/categories.csv', header = None, names=[\"category_code\",\"category\"])\n",
    "\n",
    "#mapping.groupby('product_id')[\"category_id\"].nunique()\n",
    "#mapping['product_id'].nunique()\n",
    "\n",
    "#mapping = mapping.join(cats, on='product_id', how=\"left\")\n",
    "\n"
   ]
  },
  {
   "cell_type": "markdown",
   "metadata": {},
   "source": [
    "## Antimicrobials in BNF"
   ]
  },
  {
   "cell_type": "code",
   "execution_count": 2,
   "metadata": {
    "lines_to_next_cell": 0
   },
   "outputs": [
    {
     "name": "stderr",
     "output_type": "stream",
     "text": [
      "C:\\Users\\hcurtis\\Anaconda3\\envs\\antibiotics-rct\\lib\\site-packages\\pandas_gbq\\gbq.py:547: UserWarning: A progress bar was requested, but there was an error loading the tqdm library. Please install tqdm to use the progress bar functionality.\n",
      "  df = rows_iter.to_dataframe(\n"
     ]
    }
   ],
   "source": [
    "sql = '''\n",
    "WITH bnf_codes AS (  \n",
    "  SELECT presentation_code as bnf_code, \n",
    "  IF(para IN ('Some other antibacterials','Antituberculosis drugs', 'Antileprotic drugs'),\n",
    "        'Others', para) AS para  \n",
    "  FROM hscic.bnf \n",
    "  WHERE \n",
    "  (presentation_code LIKE '0501%')\n",
    ") \n",
    "  \n",
    "SELECT \"vmp\" AS type, vmp.id, vmp.bnf_code, vmp.nm, ing.nm AS ingredient, \n",
    "  route.descr as route, para as paragraph\n",
    "FROM dmd.vmp \n",
    "INNER JOIN bnf_codes b ON b.bnf_code = vmp.bnf_code\n",
    "INNER JOIN dmd.vpi AS vpi ON vmp.id=vpi.vmp\n",
    "INNER JOIN dmd.ing as ing ON ing.id = vpi.ing\n",
    "LEFT JOIN dmd.droute on vmp.id = droute.vmp\t\n",
    "LEFT JOIN dmd.route on route.cd = droute.route\n",
    "\n",
    "ORDER BY type, nm  '''\n",
    "\n",
    "antibac_meds = bq.cached_read(sql, csv_path=os.path.join('..','data','antibac_meds.csv'))\n",
    "pd.set_option('display.max_rows', None)\n",
    "pd.set_option('display.max_colwidth', None)\n",
    "antibac_meds[[\"id\", \"bnf_code\"]].count()\n",
    "\n",
    "antibac_meds[\"source\"] = \"bnf\""
   ]
  },
  {
   "cell_type": "code",
   "execution_count": 3,
   "metadata": {},
   "outputs": [
    {
     "name": "stdout",
     "output_type": "stream",
     "text": [
      "1\n",
      "No. of paras:  11\n"
     ]
    }
   ],
   "source": [
    "#antibac_meds.merge(mapping, left_on='id', right_on='product_id', how='left')\n",
    "# check that each ingredient is mapped to just one paragraph\n",
    "print(antibac_meds.groupby(['ingredient'])['paragraph'].nunique().max())\n",
    "print(\"No. of paras: \", antibac_meds['paragraph'].nunique())\n",
    "para_lookup = antibac_meds[['ingredient','paragraph']].drop_duplicates()"
   ]
  },
  {
   "cell_type": "markdown",
   "metadata": {
    "lines_to_next_cell": 2
   },
   "source": [
    "## Dm+d Additions\n",
    "There are some medicines used in hospital only, which don't have BNF codes (used for primary care). \n",
    "\n",
    "We will manually select these from dmd using the ingredients found in the products we identified from BNF codes."
   ]
  },
  {
   "cell_type": "code",
   "execution_count": 4,
   "metadata": {},
   "outputs": [
    {
     "name": "stdout",
     "output_type": "stream",
     "text": [
      "No of antibiotic ingredients from bnf list:  122\n",
      "No of antibiotic ingredients after filtering:  118\n",
      "No of antibiotic ingredients in dmd list:  118\n"
     ]
    }
   ],
   "source": [
    "  \n",
    "# set name of codelist for exporting file\n",
    "codelist_name=\"antibac_meds\"\n",
    "\n",
    "# import or paste list of vtms (Virtual Therapeutic Moieties / Ingredients) by name\n",
    "names = antibac_meds[\"ingredient\"].drop_duplicates()\n",
    "print(\"No of antibiotic ingredients from bnf list: \", len(names))\n",
    "\n",
    "# filter out ingredients identified as not being antimicrobial agents\n",
    "names_filtered = [k for k in names if k not in [\"Citric acid\", \"Thalidomide\", \"Sodium bicarbonate\", \"Sodium citrate\"]]\n",
    "print(\"No of antibiotic ingredients after filtering: \", len(names_filtered))\n",
    "\n",
    "# convert list to tuple for use in SQL query\n",
    "names_tuple = tuple(names_filtered)\n",
    "if len(names_tuple)==1:\n",
    "    # remove comma if only one item\n",
    "    names_tuple = str(names_tuple).replace(\",\",\"\")\n",
    "\n",
    "sql = f'''\n",
    "SELECT \"vmp\" AS type, vmp.id, bnf_code, vmp.nm, ing.nm AS ingredient, \n",
    "    route.descr as route, ddd.ddd, ddd.ddd_uomcd AS ddd_uomcd\n",
    "FROM dmd.vmp\n",
    "INNER JOIN dmd.vpi AS vpi ON vmp.id=vpi.vmp \n",
    "INNER JOIN dmd.ing as ing ON ing.id = vpi.ing AND ing.nm IN {names_tuple}\n",
    "LEFT JOIN dmd.droute on vmp.id = droute.vmp\n",
    "LEFT JOIN dmd.route on route.cd = droute.route\n",
    "LEFT JOIN dmd.ddd on vmp.id=ddd.vpid\n",
    "\n",
    "ORDER BY type, nm  '''\n",
    "\n",
    "dmd_antibac_meds = bq.cached_read(sql, csv_path=os.path.join('..','data',f'dmd_{codelist_name}.csv'))\n",
    "\n",
    "print(\"No of antibiotic ingredients in dmd list: \", dmd_antibac_meds[\"ingredient\"].nunique())"
   ]
  },
  {
   "cell_type": "code",
   "execution_count": 5,
   "metadata": {},
   "outputs": [
    {
     "data": {
      "text/html": [
       "<div>\n",
       "<style scoped>\n",
       "    .dataframe tbody tr th:only-of-type {\n",
       "        vertical-align: middle;\n",
       "    }\n",
       "\n",
       "    .dataframe tbody tr th {\n",
       "        vertical-align: top;\n",
       "    }\n",
       "\n",
       "    .dataframe thead th {\n",
       "        text-align: right;\n",
       "    }\n",
       "</style>\n",
       "<table border=\"1\" class=\"dataframe\">\n",
       "  <thead>\n",
       "    <tr style=\"text-align: right;\">\n",
       "      <th></th>\n",
       "      <th>type</th>\n",
       "      <th>id</th>\n",
       "      <th>bnf_code</th>\n",
       "      <th>nm</th>\n",
       "      <th>ingredient</th>\n",
       "      <th>route</th>\n",
       "      <th>ddd</th>\n",
       "      <th>ddd_uomcd</th>\n",
       "      <th>paragraph</th>\n",
       "    </tr>\n",
       "  </thead>\n",
       "  <tbody>\n",
       "    <tr>\n",
       "      <th>0</th>\n",
       "      <td>vmp</td>\n",
       "      <td>35899811000001104</td>\n",
       "      <td>0501040C0AAADAD</td>\n",
       "      <td>Amikacin 100mg/2ml solution for injection vials</td>\n",
       "      <td>Amikacin sulfate</td>\n",
       "      <td>Intramuscular</td>\n",
       "      <td>1.0</td>\n",
       "      <td>258682000.0</td>\n",
       "      <td>Aminoglycosides</td>\n",
       "    </tr>\n",
       "    <tr>\n",
       "      <th>1</th>\n",
       "      <td>vmp</td>\n",
       "      <td>35899811000001104</td>\n",
       "      <td>0501040C0AAADAD</td>\n",
       "      <td>Amikacin 100mg/2ml solution for injection vials</td>\n",
       "      <td>Amikacin sulfate</td>\n",
       "      <td>Intravenous</td>\n",
       "      <td>1.0</td>\n",
       "      <td>258682000.0</td>\n",
       "      <td>Aminoglycosides</td>\n",
       "    </tr>\n",
       "    <tr>\n",
       "      <th>2</th>\n",
       "      <td>vmp</td>\n",
       "      <td>33516711000001107</td>\n",
       "      <td>None</td>\n",
       "      <td>Amikacin 2.5% eye drops preservative free</td>\n",
       "      <td>Amikacin sulfate</td>\n",
       "      <td>Ocular</td>\n",
       "      <td>NaN</td>\n",
       "      <td>NaN</td>\n",
       "      <td>Aminoglycosides</td>\n",
       "    </tr>\n",
       "    <tr>\n",
       "      <th>3</th>\n",
       "      <td>vmp</td>\n",
       "      <td>35104511000001105</td>\n",
       "      <td>None</td>\n",
       "      <td>Amikacin 25mg/5ml solution for injection pre-filled syringes</td>\n",
       "      <td>Amikacin sulfate</td>\n",
       "      <td>Intrathecal</td>\n",
       "      <td>NaN</td>\n",
       "      <td>NaN</td>\n",
       "      <td>Aminoglycosides</td>\n",
       "    </tr>\n",
       "    <tr>\n",
       "      <th>4</th>\n",
       "      <td>vmp</td>\n",
       "      <td>35111911000001104</td>\n",
       "      <td>None</td>\n",
       "      <td>Amikacin 25mg/5ml solution for injection vials</td>\n",
       "      <td>Amikacin sulfate</td>\n",
       "      <td>Intrathecal</td>\n",
       "      <td>NaN</td>\n",
       "      <td>NaN</td>\n",
       "      <td>Aminoglycosides</td>\n",
       "    </tr>\n",
       "  </tbody>\n",
       "</table>\n",
       "</div>"
      ],
      "text/plain": [
       "  type                 id         bnf_code  \\\n",
       "0  vmp  35899811000001104  0501040C0AAADAD   \n",
       "1  vmp  35899811000001104  0501040C0AAADAD   \n",
       "2  vmp  33516711000001107             None   \n",
       "3  vmp  35104511000001105             None   \n",
       "4  vmp  35111911000001104             None   \n",
       "\n",
       "                                                             nm  \\\n",
       "0               Amikacin 100mg/2ml solution for injection vials   \n",
       "1               Amikacin 100mg/2ml solution for injection vials   \n",
       "2                     Amikacin 2.5% eye drops preservative free   \n",
       "3  Amikacin 25mg/5ml solution for injection pre-filled syringes   \n",
       "4                Amikacin 25mg/5ml solution for injection vials   \n",
       "\n",
       "         ingredient          route  ddd    ddd_uomcd        paragraph  \n",
       "0  Amikacin sulfate  Intramuscular  1.0  258682000.0  Aminoglycosides  \n",
       "1  Amikacin sulfate    Intravenous  1.0  258682000.0  Aminoglycosides  \n",
       "2  Amikacin sulfate         Ocular  NaN          NaN  Aminoglycosides  \n",
       "3  Amikacin sulfate    Intrathecal  NaN          NaN  Aminoglycosides  \n",
       "4  Amikacin sulfate    Intrathecal  NaN          NaN  Aminoglycosides  "
      ]
     },
     "execution_count": 5,
     "metadata": {},
     "output_type": "execute_result"
    }
   ],
   "source": [
    "# join BNF paragraph via ingredients\n",
    "\n",
    "dmd_antibac_meds_2 = dmd_antibac_meds.merge(para_lookup, on='ingredient', how='left')\n",
    "\n",
    "dmd_antibac_meds_2.head()"
   ]
  },
  {
   "cell_type": "markdown",
   "metadata": {},
   "source": [
    "**Note the above should have captured all the codes we previously found by selecting based on BNF codes so we don't need to join the tables.**"
   ]
  },
  {
   "cell_type": "markdown",
   "metadata": {},
   "source": [
    "### Investigate routes of administration"
   ]
  },
  {
   "cell_type": "code",
   "execution_count": 6,
   "metadata": {},
   "outputs": [
    {
     "data": {
      "text/plain": [
       "route\n",
       "Oral                                      568\n",
       "Intravenous                               193\n",
       "Intramuscular                              69\n",
       "Ocular                                     53\n",
       "Cutaneous                                  43\n",
       "Route of administration not applicable     30\n",
       "Auricular                                  19\n",
       "Inhalation                                 17\n",
       "Intrathecal                                 7\n",
       "Intraarticular                              5\n",
       "Intracameral                                5\n",
       "Intrapleural                                5\n",
       "Intravitreal                                4\n",
       "Intralesional                               3\n",
       "Vaginal                                     3\n",
       "Rectal                                      3\n",
       "Intraperitoneal                             3\n",
       "Nasal                                       2\n",
       "Oromucosal                                  2\n",
       "Gingival                                    2\n",
       "Gastroenteral                               2\n",
       "Subcutaneous                                1\n",
       "Intracerebroventricular                     1\n",
       "Intracavernous                              1\n",
       "Intravesical                                1\n",
       "Dental                                      1\n",
       "Name: id, dtype: int64"
      ]
     },
     "execution_count": 6,
     "metadata": {},
     "output_type": "execute_result"
    }
   ],
   "source": [
    "dmd_antibac_meds_2.groupby(\"route\")[\"id\"].count().sort_values(ascending=False)"
   ]
  },
  {
   "cell_type": "code",
   "execution_count": 7,
   "metadata": {},
   "outputs": [
    {
     "name": "stdout",
     "output_type": "stream",
     "text": [
      "          Route          route\n",
      "0    Injectable  Intramuscular\n",
      "1    Injectable    Intravenous\n",
      "556  Injectable   Subcutaneous\n",
      "8          Oral           Oral\n",
      "636       Other         Rectal\n"
     ]
    }
   ],
   "source": [
    "# categorise routes of administration\n",
    "\n",
    "condlist = [dmd_antibac_meds_2[\"route\"]== \"Oral\",\n",
    "            dmd_antibac_meds_2[\"route\"].isin([\"Intravenous\", \"Subcutaneous\", \"Intramuscular\"]),\n",
    "            dmd_antibac_meds_2[\"route\"].isin([\"Cutaneous\", \"Auricular\",\"Vaginal\",\"Intralesional\",\n",
    "                                        \"Nasal\", \"Oromucosal\", \"Gingival\"])]\n",
    "choicelist = [\"Oral\", \"Injectable\", \"Topical\"]\n",
    "dmd_antibac_meds_2[\"Route\"] = np.select(condlist, choicelist, default=\"Other\")\n",
    "\n",
    "print(dmd_antibac_meds_2[[\"Route\", \"route\"]].drop_duplicates().sort_values(by=\"Route\").head())\n",
    "\n",
    "dmd_antibac_meds_2 = dmd_antibac_meds_2.drop(\"route\", axis=1)"
   ]
  },
  {
   "cell_type": "code",
   "execution_count": 8,
   "metadata": {},
   "outputs": [
    {
     "name": "stdout",
     "output_type": "stream",
     "text": [
      "nunique     897\n",
      "count      1045\n",
      "Name: nm, dtype: int64\n"
     ]
    },
    {
     "data": {
      "text/html": [
       "<div>\n",
       "<style scoped>\n",
       "    .dataframe tbody tr th:only-of-type {\n",
       "        vertical-align: middle;\n",
       "    }\n",
       "\n",
       "    .dataframe tbody tr th {\n",
       "        vertical-align: top;\n",
       "    }\n",
       "\n",
       "    .dataframe thead th {\n",
       "        text-align: right;\n",
       "    }\n",
       "</style>\n",
       "<table border=\"1\" class=\"dataframe\">\n",
       "  <thead>\n",
       "    <tr style=\"text-align: right;\">\n",
       "      <th></th>\n",
       "      <th>nunique</th>\n",
       "      <th>count</th>\n",
       "    </tr>\n",
       "    <tr>\n",
       "      <th>type</th>\n",
       "      <th></th>\n",
       "      <th></th>\n",
       "    </tr>\n",
       "  </thead>\n",
       "  <tbody>\n",
       "    <tr>\n",
       "      <th>vmp</th>\n",
       "      <td>897</td>\n",
       "      <td>1045</td>\n",
       "    </tr>\n",
       "  </tbody>\n",
       "</table>\n",
       "</div>"
      ],
      "text/plain": [
       "      nunique  count\n",
       "type                \n",
       "vmp       897   1045"
      ]
     },
     "execution_count": 8,
     "metadata": {},
     "output_type": "execute_result"
    }
   ],
   "source": [
    "# check number of distinct medicines\n",
    "print(dmd_antibac_meds_2[\"nm\"].agg({\"count\", \"nunique\"}))\n",
    "dmd_antibac_meds_2.groupby(\"type\")[\"nm\"].agg({\"count\", \"nunique\"})"
   ]
  },
  {
   "cell_type": "code",
   "execution_count": 9,
   "metadata": {},
   "outputs": [
    {
     "name": "stdout",
     "output_type": "stream",
     "text": [
      "      sum  count\n",
      "type            \n",
      "vmp   731   1045\n",
      "            sum  count\n",
      "Route                 \n",
      "Injectable  185    263\n",
      "Oral        511    568\n",
      "Other        33    140\n",
      "Topical       2     74\n"
     ]
    }
   ],
   "source": [
    "# check how many products have DDDs\n",
    "dmd_antibac_meds_2[\"ddd_flag\"] = np.where(dmd_antibac_meds_2[\"ddd\"].notnull(), 1, 0)\n",
    "print(dmd_antibac_meds_2.groupby([\"type\"])[\"ddd_flag\"].agg({\"sum\",\"count\"}))\n",
    "print(dmd_antibac_meds_2.groupby([\"Route\"])[\"ddd_flag\"].agg({\"sum\",\"count\"}))\n"
   ]
  },
  {
   "cell_type": "code",
   "execution_count": 10,
   "metadata": {},
   "outputs": [],
   "source": [
    "dmd_antibac_meds_2.to_csv(os.path.join('..','data','antibac_codelist.csv')) #export to csv here\n"
   ]
  }
 ],
 "metadata": {
  "jupytext": {
   "cell_metadata_filter": "all",
   "notebook_metadata_filter": "all,-language_info",
   "text_representation": {
    "extension": ".py",
    "format_name": "light",
    "format_version": "1.5",
    "jupytext_version": "1.3.3"
   }
  },
  "kernelspec": {
   "display_name": "Python 3",
   "language": "python",
   "name": "python3"
  },
  "language_info": {
   "codemirror_mode": {
    "name": "ipython",
    "version": 3
   },
   "file_extension": ".py",
   "mimetype": "text/x-python",
   "name": "python",
   "nbconvert_exporter": "python",
   "pygments_lexer": "ipython3",
   "version": "3.8.1"
  }
 },
 "nbformat": 4,
 "nbformat_minor": 4
}
