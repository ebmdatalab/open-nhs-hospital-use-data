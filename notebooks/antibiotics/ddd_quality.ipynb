{
 "cells": [
  {
   "cell_type": "code",
   "execution_count": 6,
   "metadata": {},
   "outputs": [],
   "source": [
    "import pandas as pd\n",
    "from ebmdatalab import bq\n",
    "from upsetplot import plot"
   ]
  },
  {
   "cell_type": "markdown",
   "metadata": {},
   "source": [
    "## What's the overall record population?"
   ]
  },
  {
   "cell_type": "code",
   "execution_count": 4,
   "metadata": {},
   "outputs": [
    {
     "name": "stderr",
     "output_type": "stream",
     "text": [
      "Downloading: 100%|██████████| 22319/22319 [00:01<00:00, 20913.53rows/s]\n"
     ]
    }
   ],
   "source": [
    "qry = \"\"\"\n",
    "select \n",
    "    True as vmp, \n",
    "    case when ddd.vpid is not null then True else False end as present_in_ddd_table, \n",
    "    case when ddd.DDD is not null then True else False end as with_ddd, \n",
    "    case when ddd.ATC is not null then True else False end as with_atc, \n",
    "    case when ddd.BNF is not null then True else False end as with_bnf_in_ddd\n",
    "\n",
    "from `ebmdatalab.dmd.vmp` vmp\n",
    "left join `ebmdatalab.dmd.ddd` ddd  on ddd.vpid = vmp.id\n",
    "\"\"\"\n",
    "\n",
    "df_bool = bq.cached_read(csv_path='ddd_boolean.csv',sql=qry)"
   ]
  },
  {
   "cell_type": "code",
   "execution_count": 19,
   "metadata": {},
   "outputs": [
    {
     "data": {
      "text/plain": [
       "{'matrix': <matplotlib.axes._subplots.AxesSubplot at 0x7fee325e9b50>,\n",
       " 'shading': <matplotlib.axes._subplots.AxesSubplot at 0x7fee32670e20>,\n",
       " 'totals': <matplotlib.axes._subplots.AxesSubplot at 0x7fee326701f0>,\n",
       " 'intersections': <matplotlib.axes._subplots.AxesSubplot at 0x7fee324d2220>}"
      ]
     },
     "execution_count": 19,
     "metadata": {},
     "output_type": "execute_result"
    },
    {
     "data": {
      "image/png": "[encoded data removed]",
      "text/plain": [
       "<Figure size 448x352 with 4 Axes>"
      ]
     },
     "metadata": {
      "needs_background": "light"
     },
     "output_type": "display_data"
    }
   ],
   "source": [
    "plot(df_bool.groupby(['vmp','present_in_ddd_table','with_ddd','with_atc','with_bnf_in_ddd']).size(), show_counts=True)"
   ]
  },
  {
   "cell_type": "markdown",
   "metadata": {},
   "source": [
    "## How many ATC-route combinations have incomplete DDD records?\n",
    "\n",
    "DDD is defined by WHO at ATC + route of administration level.\n",
    "\n",
    "Some VMPs in NHSD-provided DDD table have NULL DDDs wheras other products with the same ATC and route of administration have populated DDDs.\n",
    "\n",
    "What is the extent of this problem?"
   ]
  },
  {
   "cell_type": "code",
   "execution_count": 43,
   "metadata": {},
   "outputs": [
    {
     "name": "stderr",
     "output_type": "stream",
     "text": [
      "Downloading: 100%|██████████| 3065/3065 [00:00<00:00, 13453.31rows/s]\n"
     ]
    }
   ],
   "source": [
    "qry = \"\"\"\n",
    "with cte as (\n",
    "    select\n",
    "        vmp.id as vmpid,\n",
    "        ddd.ATC, \n",
    "        r.descr as route, \n",
    "        case when ddd.DDD is not null then True else False end as with_ddd, \n",
    "        case when ddd.BNF is not null then True else False end as with_bnf_in_ddd\n",
    "    from `ebmdatalab.dmd.vmp` vmp\n",
    "    join `ebmdatalab.dmd.ddd` ddd  on ddd.vpid = vmp.id\n",
    "    join `ebmdatalab.dmd.droute` dr on vmp.id = dr.vmp\n",
    "    join `ebmdatalab.dmd.route` r on dr.route = r.cd\n",
    "    where ddd.ATC is not null )\n",
    ",cte2 as (\n",
    "    select \n",
    "        atc,\n",
    "        route,\n",
    "        count(distinct with_ddd) count_ddd,\n",
    "        max(with_ddd) max_ddd,\n",
    "        count(distinct with_bnf_in_ddd) count_bnf,\n",
    "        max(with_bnf_in_ddd) max_bnf,\n",
    "        count(distinct vmpid) as vmps\n",
    "    from cte\n",
    "    group by atc,route\n",
    ")\n",
    "select \n",
    "    atc,\n",
    "    route,\n",
    "    case when count_ddd=1 and max_ddd = True then 'full' when count_ddd>1 then 'partial' else 'none' end as ddd,\n",
    "    case when count_bnf=1 and max_bnf = True then 'full' when count_bnf>1 then 'partial' else 'none' end as bnf,\n",
    "    vmps\n",
    "from cte2 \n",
    "\"\"\"\n",
    "df_atcroute = bq.cached_read(csv_path='ddd_atcroute.csv',sql=qry)"
   ]
  },
  {
   "cell_type": "code",
   "execution_count": 52,
   "metadata": {},
   "outputs": [
    {
     "data": {
      "text/html": [
       "<div>\n",
       "<style scoped>\n",
       "    .dataframe tbody tr th:only-of-type {\n",
       "        vertical-align: middle;\n",
       "    }\n",
       "\n",
       "    .dataframe tbody tr th {\n",
       "        vertical-align: top;\n",
       "    }\n",
       "\n",
       "    .dataframe thead th {\n",
       "        text-align: right;\n",
       "    }\n",
       "</style>\n",
       "<table border=\"1\" class=\"dataframe\">\n",
       "  <thead>\n",
       "    <tr style=\"text-align: right;\">\n",
       "      <th></th>\n",
       "      <th>atc</th>\n",
       "      <th>route</th>\n",
       "      <th>ddd</th>\n",
       "      <th>bnf</th>\n",
       "      <th>vmps</th>\n",
       "    </tr>\n",
       "  </thead>\n",
       "  <tbody>\n",
       "    <tr>\n",
       "      <th>count</th>\n",
       "      <td>3065</td>\n",
       "      <td>3065</td>\n",
       "      <td>3065</td>\n",
       "      <td>3065</td>\n",
       "      <td>3065.000000</td>\n",
       "    </tr>\n",
       "    <tr>\n",
       "      <th>unique</th>\n",
       "      <td>2175</td>\n",
       "      <td>62</td>\n",
       "      <td>3</td>\n",
       "      <td>3</td>\n",
       "      <td>NaN</td>\n",
       "    </tr>\n",
       "    <tr>\n",
       "      <th>top</th>\n",
       "      <td>N01BB52</td>\n",
       "      <td>Oral</td>\n",
       "      <td>full</td>\n",
       "      <td>full</td>\n",
       "      <td>NaN</td>\n",
       "    </tr>\n",
       "    <tr>\n",
       "      <th>freq</th>\n",
       "      <td>12</td>\n",
       "      <td>1211</td>\n",
       "      <td>1481</td>\n",
       "      <td>1105</td>\n",
       "      <td>NaN</td>\n",
       "    </tr>\n",
       "    <tr>\n",
       "      <th>mean</th>\n",
       "      <td>NaN</td>\n",
       "      <td>NaN</td>\n",
       "      <td>NaN</td>\n",
       "      <td>NaN</td>\n",
       "      <td>4.573246</td>\n",
       "    </tr>\n",
       "    <tr>\n",
       "      <th>std</th>\n",
       "      <td>NaN</td>\n",
       "      <td>NaN</td>\n",
       "      <td>NaN</td>\n",
       "      <td>NaN</td>\n",
       "      <td>9.127931</td>\n",
       "    </tr>\n",
       "    <tr>\n",
       "      <th>min</th>\n",
       "      <td>NaN</td>\n",
       "      <td>NaN</td>\n",
       "      <td>NaN</td>\n",
       "      <td>NaN</td>\n",
       "      <td>1.000000</td>\n",
       "    </tr>\n",
       "    <tr>\n",
       "      <th>25%</th>\n",
       "      <td>NaN</td>\n",
       "      <td>NaN</td>\n",
       "      <td>NaN</td>\n",
       "      <td>NaN</td>\n",
       "      <td>1.000000</td>\n",
       "    </tr>\n",
       "    <tr>\n",
       "      <th>50%</th>\n",
       "      <td>NaN</td>\n",
       "      <td>NaN</td>\n",
       "      <td>NaN</td>\n",
       "      <td>NaN</td>\n",
       "      <td>2.000000</td>\n",
       "    </tr>\n",
       "    <tr>\n",
       "      <th>75%</th>\n",
       "      <td>NaN</td>\n",
       "      <td>NaN</td>\n",
       "      <td>NaN</td>\n",
       "      <td>NaN</td>\n",
       "      <td>4.000000</td>\n",
       "    </tr>\n",
       "    <tr>\n",
       "      <th>max</th>\n",
       "      <td>NaN</td>\n",
       "      <td>NaN</td>\n",
       "      <td>NaN</td>\n",
       "      <td>NaN</td>\n",
       "      <td>195.000000</td>\n",
       "    </tr>\n",
       "  </tbody>\n",
       "</table>\n",
       "</div>"
      ],
      "text/plain": [
       "            atc route   ddd   bnf         vmps\n",
       "count      3065  3065  3065  3065  3065.000000\n",
       "unique     2175    62     3     3          NaN\n",
       "top     N01BB52  Oral  full  full          NaN\n",
       "freq         12  1211  1481  1105          NaN\n",
       "mean        NaN   NaN   NaN   NaN     4.573246\n",
       "std         NaN   NaN   NaN   NaN     9.127931\n",
       "min         NaN   NaN   NaN   NaN     1.000000\n",
       "25%         NaN   NaN   NaN   NaN     1.000000\n",
       "50%         NaN   NaN   NaN   NaN     2.000000\n",
       "75%         NaN   NaN   NaN   NaN     4.000000\n",
       "max         NaN   NaN   NaN   NaN   195.000000"
      ]
     },
     "execution_count": 52,
     "metadata": {},
     "output_type": "execute_result"
    }
   ],
   "source": [
    "df_atcroute.describe(include='all')"
   ]
  },
  {
   "cell_type": "code",
   "execution_count": 41,
   "metadata": {},
   "outputs": [
    {
     "data": {
      "text/html": [
       "<div>\n",
       "<style scoped>\n",
       "    .dataframe tbody tr th:only-of-type {\n",
       "        vertical-align: middle;\n",
       "    }\n",
       "\n",
       "    .dataframe tbody tr th {\n",
       "        vertical-align: top;\n",
       "    }\n",
       "\n",
       "    .dataframe thead th {\n",
       "        text-align: right;\n",
       "    }\n",
       "</style>\n",
       "<table border=\"1\" class=\"dataframe\">\n",
       "  <thead>\n",
       "    <tr style=\"text-align: right;\">\n",
       "      <th>bnf</th>\n",
       "      <th>full</th>\n",
       "      <th>none</th>\n",
       "      <th>partial</th>\n",
       "      <th>All</th>\n",
       "    </tr>\n",
       "    <tr>\n",
       "      <th>ddd</th>\n",
       "      <th></th>\n",
       "      <th></th>\n",
       "      <th></th>\n",
       "      <th></th>\n",
       "    </tr>\n",
       "  </thead>\n",
       "  <tbody>\n",
       "    <tr>\n",
       "      <th>full</th>\n",
       "      <td>576</td>\n",
       "      <td>338</td>\n",
       "      <td>567</td>\n",
       "      <td>1481</td>\n",
       "    </tr>\n",
       "    <tr>\n",
       "      <th>none</th>\n",
       "      <td>522</td>\n",
       "      <td>638</td>\n",
       "      <td>288</td>\n",
       "      <td>1448</td>\n",
       "    </tr>\n",
       "    <tr>\n",
       "      <th>partial</th>\n",
       "      <td>7</td>\n",
       "      <td>24</td>\n",
       "      <td>105</td>\n",
       "      <td>136</td>\n",
       "    </tr>\n",
       "    <tr>\n",
       "      <th>All</th>\n",
       "      <td>1105</td>\n",
       "      <td>1000</td>\n",
       "      <td>960</td>\n",
       "      <td>3065</td>\n",
       "    </tr>\n",
       "  </tbody>\n",
       "</table>\n",
       "</div>"
      ],
      "text/plain": [
       "bnf      full  none  partial   All\n",
       "ddd                               \n",
       "full      576   338      567  1481\n",
       "none      522   638      288  1448\n",
       "partial     7    24      105   136\n",
       "All      1105  1000      960  3065"
      ]
     },
     "execution_count": 41,
     "metadata": {},
     "output_type": "execute_result"
    }
   ],
   "source": [
    "pd.pivot_table(df_atcroute.groupby(['ddd','bnf']).size().reset_index(),values=0,index='ddd',columns='bnf',aggfunc='sum',margins=True)"
   ]
  },
  {
   "cell_type": "markdown",
   "metadata": {},
   "source": [
    "How many VMPs for each ATC-route class described above?"
   ]
  },
  {
   "cell_type": "code",
   "execution_count": 47,
   "metadata": {},
   "outputs": [
    {
     "data": {
      "text/html": [
       "<div>\n",
       "<style scoped>\n",
       "    .dataframe tbody tr th:only-of-type {\n",
       "        vertical-align: middle;\n",
       "    }\n",
       "\n",
       "    .dataframe tbody tr th {\n",
       "        vertical-align: top;\n",
       "    }\n",
       "\n",
       "    .dataframe thead th {\n",
       "        text-align: right;\n",
       "    }\n",
       "</style>\n",
       "<table border=\"1\" class=\"dataframe\">\n",
       "  <thead>\n",
       "    <tr style=\"text-align: right;\">\n",
       "      <th>bnf</th>\n",
       "      <th>full</th>\n",
       "      <th>none</th>\n",
       "      <th>partial</th>\n",
       "      <th>All</th>\n",
       "    </tr>\n",
       "    <tr>\n",
       "      <th>ddd</th>\n",
       "      <th></th>\n",
       "      <th></th>\n",
       "      <th></th>\n",
       "      <th></th>\n",
       "    </tr>\n",
       "  </thead>\n",
       "  <tbody>\n",
       "    <tr>\n",
       "      <th>full</th>\n",
       "      <td>1147</td>\n",
       "      <td>783</td>\n",
       "      <td>6430</td>\n",
       "      <td>8360</td>\n",
       "    </tr>\n",
       "    <tr>\n",
       "      <th>none</th>\n",
       "      <td>932</td>\n",
       "      <td>1550</td>\n",
       "      <td>1856</td>\n",
       "      <td>4338</td>\n",
       "    </tr>\n",
       "    <tr>\n",
       "      <th>partial</th>\n",
       "      <td>24</td>\n",
       "      <td>116</td>\n",
       "      <td>1179</td>\n",
       "      <td>1319</td>\n",
       "    </tr>\n",
       "    <tr>\n",
       "      <th>All</th>\n",
       "      <td>2103</td>\n",
       "      <td>2449</td>\n",
       "      <td>9465</td>\n",
       "      <td>14017</td>\n",
       "    </tr>\n",
       "  </tbody>\n",
       "</table>\n",
       "</div>"
      ],
      "text/plain": [
       "bnf      full  none  partial    All\n",
       "ddd                                \n",
       "full     1147   783     6430   8360\n",
       "none      932  1550     1856   4338\n",
       "partial    24   116     1179   1319\n",
       "All      2103  2449     9465  14017"
      ]
     },
     "execution_count": 47,
     "metadata": {},
     "output_type": "execute_result"
    }
   ],
   "source": [
    "#df_atcroute.groupby(['ddd','bnf']).sum()\n",
    "pd.pivot_table(df_atcroute.groupby(['ddd','bnf']).sum().reset_index(),values='vmps',index='ddd',columns='bnf',aggfunc='sum',margins=True)"
   ]
  }
 ],
 "metadata": {
  "jupytext": {
   "cell_metadata_filter": "all",
   "notebook_metadata_filter": "all,-language_info"
  },
  "kernelspec": {
   "display_name": "Python 3",
   "language": "python",
   "name": "python3"
  },
  "language_info": {
   "codemirror_mode": {
    "name": "ipython",
    "version": 3
   },
   "file_extension": ".py",
   "mimetype": "text/x-python",
   "name": "python",
   "nbconvert_exporter": "python",
   "pygments_lexer": "ipython3",
   "version": "3.8.1"
  }
 },
 "nbformat": 4,
 "nbformat_minor": 4
}
